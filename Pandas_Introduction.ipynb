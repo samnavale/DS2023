{
 "cells": [
  {
   "cell_type": "code",
   "execution_count": null,
   "metadata": {
    "id": "QNNljSLIaO_M"
   },
   "outputs": [],
   "source": [
    "import pandas as pd"
   ]
  },
  {
   "cell_type": "code",
   "execution_count": null,
   "metadata": {
    "id": "vuKG3XW0aO_Q"
   },
   "outputs": [],
   "source": [
    "# df = pd.read_csv(\"https://raw.githubusercontent.com/Apress/data-analysis-and-visualization-using-python/master/Ch07/Salaries.csv\",)"
   ]
  },
  {
   "cell_type": "code",
   "execution_count": null,
   "metadata": {
    "colab": {
     "base_uri": "https://localhost:8080/",
     "height": 206
    },
    "executionInfo": {
     "elapsed": 398,
     "status": "ok",
     "timestamp": 1675495256296,
     "user": {
      "displayName": "ashutosh upadhyay",
      "userId": "04009039228362967146"
     },
     "user_tz": -330
    },
    "id": "wgzNgSjeTBcH",
    "outputId": "31cf7174-dd3a-4c3e-9441-37abc18b6e0a"
   },
   "outputs": [],
   "source": [
    "df = pd.read_csv(\"E:\\\\DS_data\\\\Salaries.csv\")\n",
    "df.head()"
   ]
  },
  {
   "cell_type": "code",
   "execution_count": null,
   "metadata": {
    "colab": {
     "base_uri": "https://localhost:8080/",
     "height": 363
    },
    "executionInfo": {
     "elapsed": 59,
     "status": "ok",
     "timestamp": 1663944042811,
     "user": {
      "displayName": "Salem Sameer Shaikh",
      "userId": "05291575250389740253"
     },
     "user_tz": -330
    },
    "id": "QHJ8GFpQaO_T",
    "outputId": "fc7a929c-b1d0-409b-dba2-71d89011b3ae"
   },
   "outputs": [],
   "source": [
    "df.tail(10)"
   ]
  },
  {
   "cell_type": "code",
   "execution_count": null,
   "metadata": {},
   "outputs": [],
   "source": [
    "df.info()"
   ]
  },
  {
   "cell_type": "code",
   "execution_count": null,
   "metadata": {
    "colab": {
     "base_uri": "https://localhost:8080/"
    },
    "executionInfo": {
     "elapsed": 60,
     "status": "ok",
     "timestamp": 1663944042811,
     "user": {
      "displayName": "Salem Sameer Shaikh",
      "userId": "05291575250389740253"
     },
     "user_tz": -330
    },
    "id": "2OG2HZX2aO_T",
    "outputId": "1ebe490a-c8cd-4ec5-e342-d592b216505a"
   },
   "outputs": [],
   "source": [
    "df.dtypes"
   ]
  },
  {
   "cell_type": "code",
   "execution_count": null,
   "metadata": {},
   "outputs": [],
   "source": [
    "df['salary'].dtypes"
   ]
  },
  {
   "cell_type": "code",
   "execution_count": null,
   "metadata": {
    "colab": {
     "base_uri": "https://localhost:8080/"
    },
    "executionInfo": {
     "elapsed": 631,
     "status": "ok",
     "timestamp": 1675495266039,
     "user": {
      "displayName": "ashutosh upadhyay",
      "userId": "04009039228362967146"
     },
     "user_tz": -330
    },
    "id": "RofqRQcPaO_R",
    "outputId": "440c7c3b-32cc-4942-eed9-125004c13ae2"
   },
   "outputs": [],
   "source": [
    "df.columns"
   ]
  },
  {
   "cell_type": "code",
   "execution_count": null,
   "metadata": {},
   "outputs": [],
   "source": [
    "df.axes"
   ]
  },
  {
   "cell_type": "code",
   "execution_count": null,
   "metadata": {},
   "outputs": [],
   "source": [
    "df.ndim"
   ]
  },
  {
   "cell_type": "code",
   "execution_count": null,
   "metadata": {},
   "outputs": [],
   "source": [
    "df.size"
   ]
  },
  {
   "cell_type": "code",
   "execution_count": null,
   "metadata": {},
   "outputs": [],
   "source": [
    "df.shape"
   ]
  },
  {
   "cell_type": "code",
   "execution_count": null,
   "metadata": {},
   "outputs": [],
   "source": [
    "df.values"
   ]
  },
  {
   "cell_type": "code",
   "execution_count": null,
   "metadata": {
    "colab": {
     "base_uri": "https://localhost:8080/"
    },
    "executionInfo": {
     "elapsed": 58,
     "status": "ok",
     "timestamp": 1663944042811,
     "user": {
      "displayName": "Salem Sameer Shaikh",
      "userId": "05291575250389740253"
     },
     "user_tz": -330
    },
    "id": "ebx3Xikg8OXx",
    "outputId": "3e36be03-d56b-42ea-edd1-5d8ef5dca740"
   },
   "outputs": [],
   "source": [
    "df.phd"
   ]
  },
  {
   "cell_type": "code",
   "execution_count": null,
   "metadata": {
    "colab": {
     "base_uri": "https://localhost:8080/"
    },
    "executionInfo": {
     "elapsed": 57,
     "status": "ok",
     "timestamp": 1663944042812,
     "user": {
      "displayName": "Salem Sameer Shaikh",
      "userId": "05291575250389740253"
     },
     "user_tz": -330
    },
    "id": "Ypj_zzaU79Tn",
    "outputId": "f0ab371d-ea95-4826-b391-e0c0bd1b8ec4"
   },
   "outputs": [],
   "source": [
    "df.phd.describe()"
   ]
  },
  {
   "cell_type": "code",
   "execution_count": null,
   "metadata": {
    "colab": {
     "base_uri": "https://localhost:8080/",
     "height": 300
    },
    "executionInfo": {
     "elapsed": 56,
     "status": "ok",
     "timestamp": 1663944042812,
     "user": {
      "displayName": "Salem Sameer Shaikh",
      "userId": "05291575250389740253"
     },
     "user_tz": -330
    },
    "id": "2_zoQR_xaO_U",
    "outputId": "f2a5ec83-df39-46bd-af67-178e1842c48f"
   },
   "outputs": [],
   "source": [
    "df.describe()"
   ]
  },
  {
   "cell_type": "code",
   "execution_count": null,
   "metadata": {
    "colab": {
     "base_uri": "https://localhost:8080/"
    },
    "executionInfo": {
     "elapsed": 55,
     "status": "ok",
     "timestamp": 1663944042812,
     "user": {
      "displayName": "Salem Sameer Shaikh",
      "userId": "05291575250389740253"
     },
     "user_tz": -330
    },
    "id": "9KQZlWhRaO_U",
    "outputId": "9d6173fb-8bd5-4e71-e2ef-cc84e60499f3"
   },
   "outputs": [],
   "source": [
    "df.salary.min()"
   ]
  },
  {
   "cell_type": "code",
   "execution_count": null,
   "metadata": {
    "colab": {
     "base_uri": "https://localhost:8080/"
    },
    "executionInfo": {
     "elapsed": 52,
     "status": "ok",
     "timestamp": 1663944042813,
     "user": {
      "displayName": "Salem Sameer Shaikh",
      "userId": "05291575250389740253"
     },
     "user_tz": -330
    },
    "id": "qxQ-28oTaO_V",
    "outputId": "10bbb7f7-39a5-4d98-83b0-326ab052374e"
   },
   "outputs": [],
   "source": [
    "df.salary.mean()"
   ]
  },
  {
   "cell_type": "code",
   "execution_count": null,
   "metadata": {},
   "outputs": [],
   "source": [
    "df.salary.mean().round()"
   ]
  },
  {
   "cell_type": "code",
   "execution_count": null,
   "metadata": {},
   "outputs": [],
   "source": [
    "df.salary.median()"
   ]
  },
  {
   "cell_type": "code",
   "execution_count": null,
   "metadata": {},
   "outputs": [],
   "source": [
    "df.salary.mode()"
   ]
  },
  {
   "cell_type": "code",
   "execution_count": null,
   "metadata": {},
   "outputs": [],
   "source": [
    "df.salary.value_counts()"
   ]
  },
  {
   "cell_type": "code",
   "execution_count": null,
   "metadata": {
    "colab": {
     "base_uri": "https://localhost:8080/"
    },
    "executionInfo": {
     "elapsed": 51,
     "status": "ok",
     "timestamp": 1663944042813,
     "user": {
      "displayName": "Salem Sameer Shaikh",
      "userId": "05291575250389740253"
     },
     "user_tz": -330
    },
    "id": "1pusoVHXaO_V",
    "outputId": "3ea1f0d3-c865-4729-a242-a987d7c0a556"
   },
   "outputs": [],
   "source": [
    "df.discipline.value_counts()"
   ]
  },
  {
   "cell_type": "code",
   "execution_count": null,
   "metadata": {
    "colab": {
     "base_uri": "https://localhost:8080/"
    },
    "executionInfo": {
     "elapsed": 48,
     "status": "ok",
     "timestamp": 1663944042813,
     "user": {
      "displayName": "Salem Sameer Shaikh",
      "userId": "05291575250389740253"
     },
     "user_tz": -330
    },
    "id": "9kJzOvI-aO_W",
    "outputId": "446ddc89-2694-480e-fbae-2bc073a90561"
   },
   "outputs": [],
   "source": [
    "df.salary.std()"
   ]
  },
  {
   "cell_type": "code",
   "execution_count": null,
   "metadata": {},
   "outputs": [],
   "source": [
    "df.sort_values('salary')"
   ]
  },
  {
   "cell_type": "code",
   "execution_count": null,
   "metadata": {},
   "outputs": [],
   "source": [
    "df.sort_values('salary', ascending=False)"
   ]
  },
  {
   "cell_type": "code",
   "execution_count": null,
   "metadata": {
    "id": "AFleoQ9GaO_W"
   },
   "outputs": [],
   "source": [
    "df_50=df.head(50)"
   ]
  },
  {
   "cell_type": "code",
   "execution_count": null,
   "metadata": {
    "colab": {
     "base_uri": "https://localhost:8080/"
    },
    "executionInfo": {
     "elapsed": 47,
     "status": "ok",
     "timestamp": 1663944042814,
     "user": {
      "displayName": "Salem Sameer Shaikh",
      "userId": "05291575250389740253"
     },
     "user_tz": -330
    },
    "id": "1AFNyvW5aO_W",
    "outputId": "738716f9-d675-46af-b8ae-b37afb7c1645"
   },
   "outputs": [],
   "source": [
    "df_50.mean()"
   ]
  },
  {
   "cell_type": "code",
   "execution_count": null,
   "metadata": {
    "colab": {
     "base_uri": "https://localhost:8080/"
    },
    "executionInfo": {
     "elapsed": 45,
     "status": "ok",
     "timestamp": 1663944042814,
     "user": {
      "displayName": "Salem Sameer Shaikh",
      "userId": "05291575250389740253"
     },
     "user_tz": -330
    },
    "id": "HXKSlJ24aO_X",
    "outputId": "a93db79a-31e0-4939-c100-05f9a61b2403"
   },
   "outputs": [],
   "source": [
    "df.head(50).mean()"
   ]
  },
  {
   "cell_type": "code",
   "execution_count": null,
   "metadata": {
    "colab": {
     "base_uri": "https://localhost:8080/"
    },
    "executionInfo": {
     "elapsed": 43,
     "status": "ok",
     "timestamp": 1663944042814,
     "user": {
      "displayName": "Salem Sameer Shaikh",
      "userId": "05291575250389740253"
     },
     "user_tz": -330
    },
    "id": "Xux6tLoIaO_X",
    "outputId": "8c097db6-049e-449d-d015-7cc80afdfdfb"
   },
   "outputs": [],
   "source": [
    "#Selecting a column\n",
    "df.salary"
   ]
  },
  {
   "cell_type": "code",
   "execution_count": null,
   "metadata": {
    "colab": {
     "base_uri": "https://localhost:8080/"
    },
    "executionInfo": {
     "elapsed": 42,
     "status": "ok",
     "timestamp": 1663944042815,
     "user": {
      "displayName": "Salem Sameer Shaikh",
      "userId": "05291575250389740253"
     },
     "user_tz": -330
    },
    "id": "y37EK0lgaO_X",
    "outputId": "b0d00fb0-5f2e-4338-ebb0-3b18ab738702"
   },
   "outputs": [],
   "source": [
    "df['salary']"
   ]
  },
  {
   "cell_type": "code",
   "execution_count": null,
   "metadata": {
    "colab": {
     "base_uri": "https://localhost:8080/",
     "height": 424
    },
    "executionInfo": {
     "elapsed": 41,
     "status": "ok",
     "timestamp": 1663944042815,
     "user": {
      "displayName": "Salem Sameer Shaikh",
      "userId": "05291575250389740253"
     },
     "user_tz": -330
    },
    "id": "6XUfiaf3aO_Y",
    "outputId": "33130c23-de7e-46a6-d185-f4a2952db672"
   },
   "outputs": [],
   "source": [
    "df[['salary']]"
   ]
  },
  {
   "cell_type": "code",
   "execution_count": null,
   "metadata": {
    "colab": {
     "base_uri": "https://localhost:8080/"
    },
    "executionInfo": {
     "elapsed": 40,
     "status": "ok",
     "timestamp": 1663944042815,
     "user": {
      "displayName": "Salem Sameer Shaikh",
      "userId": "05291575250389740253"
     },
     "user_tz": -330
    },
    "id": "qvQueROVaO_Y",
    "outputId": "be624ceb-9405-4112-8953-513ab1c1fb8b"
   },
   "outputs": [],
   "source": [
    "df.columns"
   ]
  },
  {
   "cell_type": "code",
   "execution_count": null,
   "metadata": {
    "colab": {
     "base_uri": "https://localhost:8080/"
    },
    "executionInfo": {
     "elapsed": 38,
     "status": "ok",
     "timestamp": 1663944042815,
     "user": {
      "displayName": "Salem Sameer Shaikh",
      "userId": "05291575250389740253"
     },
     "user_tz": -330
    },
    "id": "K2tok5nnaO_Z",
    "outputId": "76d8948d-2cd9-477f-bde3-0ccd3c5d2642"
   },
   "outputs": [],
   "source": [
    "df.phd.describe()"
   ]
  },
  {
   "cell_type": "code",
   "execution_count": null,
   "metadata": {
    "colab": {
     "base_uri": "https://localhost:8080/"
    },
    "executionInfo": {
     "elapsed": 36,
     "status": "ok",
     "timestamp": 1663944042815,
     "user": {
      "displayName": "Salem Sameer Shaikh",
      "userId": "05291575250389740253"
     },
     "user_tz": -330
    },
    "id": "LQiF_-NwaO_Z",
    "outputId": "4fe44808-6559-4371-c179-c2d2316c4634"
   },
   "outputs": [],
   "source": [
    "df.phd.count()"
   ]
  },
  {
   "cell_type": "code",
   "execution_count": null,
   "metadata": {
    "colab": {
     "base_uri": "https://localhost:8080/"
    },
    "executionInfo": {
     "elapsed": 34,
     "status": "ok",
     "timestamp": 1663944042815,
     "user": {
      "displayName": "Salem Sameer Shaikh",
      "userId": "05291575250389740253"
     },
     "user_tz": -330
    },
    "id": "6UIwYNEwaO_Z",
    "outputId": "939c0acf-db46-4123-9d7c-36ddc536b83b"
   },
   "outputs": [],
   "source": [
    "df.phd.mean()"
   ]
  },
  {
   "cell_type": "code",
   "execution_count": null,
   "metadata": {
    "colab": {
     "base_uri": "https://localhost:8080/",
     "height": 175
    },
    "executionInfo": {
     "elapsed": 33,
     "status": "ok",
     "timestamp": 1663944042816,
     "user": {
      "displayName": "Salem Sameer Shaikh",
      "userId": "05291575250389740253"
     },
     "user_tz": -330
    },
    "id": "D_7CKxVTaO_Z",
    "outputId": "25fbac45-421e-4732-a052-3b5ac281ad3a"
   },
   "outputs": [],
   "source": [
    "df.groupby(['rank']).mean()"
   ]
  },
  {
   "cell_type": "code",
   "execution_count": null,
   "metadata": {
    "colab": {
     "base_uri": "https://localhost:8080/",
     "height": 175
    },
    "executionInfo": {
     "elapsed": 32,
     "status": "ok",
     "timestamp": 1663944042816,
     "user": {
      "displayName": "Salem Sameer Shaikh",
      "userId": "05291575250389740253"
     },
     "user_tz": -330
    },
    "id": "HfgS0ns-aO_a",
    "outputId": "39c9fca1-6723-4876-af53-a896f8a640a4"
   },
   "outputs": [],
   "source": [
    "df.groupby('rank')[['salary','phd']].mean()"
   ]
  },
  {
   "cell_type": "code",
   "execution_count": null,
   "metadata": {
    "id": "JFNbPSzGaO_a"
   },
   "outputs": [],
   "source": [
    "grouped=df.groupby('rank')"
   ]
  },
  {
   "cell_type": "code",
   "execution_count": null,
   "metadata": {
    "colab": {
     "base_uri": "https://localhost:8080/"
    },
    "executionInfo": {
     "elapsed": 32,
     "status": "ok",
     "timestamp": 1663944042817,
     "user": {
      "displayName": "Salem Sameer Shaikh",
      "userId": "05291575250389740253"
     },
     "user_tz": -330
    },
    "id": "PsuUTm3NaO_a",
    "outputId": "a9f92ceb-81f6-4ce5-de2a-a74fbb12c680"
   },
   "outputs": [],
   "source": [
    "type(grouped)"
   ]
  },
  {
   "cell_type": "code",
   "execution_count": null,
   "metadata": {
    "colab": {
     "base_uri": "https://localhost:8080/",
     "height": 833
    },
    "executionInfo": {
     "elapsed": 32,
     "status": "ok",
     "timestamp": 1663944042818,
     "user": {
      "displayName": "Salem Sameer Shaikh",
      "userId": "05291575250389740253"
     },
     "user_tz": -330
    },
    "id": "1GyuobpRaO_b",
    "outputId": "9d26035a-3b65-4139-8180-b97849188461"
   },
   "outputs": [],
   "source": [
    "df[df.salary>120000]"
   ]
  },
  {
   "cell_type": "code",
   "execution_count": null,
   "metadata": {
    "colab": {
     "base_uri": "https://localhost:8080/",
     "height": 424
    },
    "executionInfo": {
     "elapsed": 31,
     "status": "ok",
     "timestamp": 1663944042818,
     "user": {
      "displayName": "Salem Sameer Shaikh",
      "userId": "05291575250389740253"
     },
     "user_tz": -330
    },
    "id": "EwN7XrQjaO_b",
    "outputId": "796a93a5-6ba9-46ad-d2d2-9678c2ab1d8e"
   },
   "outputs": [],
   "source": [
    "df"
   ]
  },
  {
   "cell_type": "code",
   "execution_count": null,
   "metadata": {
    "colab": {
     "base_uri": "https://localhost:8080/",
     "height": 206
    },
    "executionInfo": {
     "elapsed": 31,
     "status": "ok",
     "timestamp": 1663944042818,
     "user": {
      "displayName": "Salem Sameer Shaikh",
      "userId": "05291575250389740253"
     },
     "user_tz": -330
    },
    "id": "db4wVy9WaO_b",
    "outputId": "ee74a058-70a0-4dd2-fc37-fd8008400253"
   },
   "outputs": [],
   "source": [
    "df.head()"
   ]
  },
  {
   "cell_type": "code",
   "execution_count": null,
   "metadata": {
    "colab": {
     "base_uri": "https://localhost:8080/",
     "height": 143
    },
    "executionInfo": {
     "elapsed": 30,
     "status": "ok",
     "timestamp": 1663944042818,
     "user": {
      "displayName": "Salem Sameer Shaikh",
      "userId": "05291575250389740253"
     },
     "user_tz": -330
    },
    "id": "CEc5aWb6aO_b",
    "outputId": "f3b0a5d8-fefb-4153-bd52-54834cb499bd"
   },
   "outputs": [],
   "source": [
    "df.iloc[1:4, 0:3]  "
   ]
  },
  {
   "cell_type": "code",
   "execution_count": null,
   "metadata": {
    "colab": {
     "base_uri": "https://localhost:8080/",
     "height": 363
    },
    "executionInfo": {
     "elapsed": 30,
     "status": "ok",
     "timestamp": 1663944042818,
     "user": {
      "displayName": "Salem Sameer Shaikh",
      "userId": "05291575250389740253"
     },
     "user_tz": -330
    },
    "id": "Vbf_QkXyaO_c",
    "outputId": "ff2d9a9d-c3ef-43ac-e0af-1746321197f8"
   },
   "outputs": [],
   "source": [
    "df.iloc[0:10,0:3]"
   ]
  },
  {
   "cell_type": "code",
   "execution_count": null,
   "metadata": {
    "colab": {
     "base_uri": "https://localhost:8080/",
     "height": 112
    },
    "executionInfo": {
     "elapsed": 30,
     "status": "ok",
     "timestamp": 1663944042819,
     "user": {
      "displayName": "Salem Sameer Shaikh",
      "userId": "05291575250389740253"
     },
     "user_tz": -330
    },
    "id": "WiUu6UE9aO_c",
    "outputId": "c081c683-d28a-4e44-acb4-e93402e41701"
   },
   "outputs": [],
   "source": [
    "df.iloc[0:2,]"
   ]
  },
  {
   "cell_type": "code",
   "execution_count": null,
   "metadata": {
    "colab": {
     "base_uri": "https://localhost:8080/"
    },
    "executionInfo": {
     "elapsed": 30,
     "status": "ok",
     "timestamp": 1663944042819,
     "user": {
      "displayName": "Salem Sameer Shaikh",
      "userId": "05291575250389740253"
     },
     "user_tz": -330
    },
    "id": "DDjUxuEFaO_c",
    "outputId": "4e3f4d05-b6be-44b1-b08c-97166205805a"
   },
   "outputs": [],
   "source": [
    "df.iloc[:,4]"
   ]
  },
  {
   "cell_type": "code",
   "execution_count": null,
   "metadata": {
    "id": "2p5e5bh-aO_c"
   },
   "outputs": [],
   "source": []
  },
  {
   "cell_type": "code",
   "execution_count": null,
   "metadata": {
    "id": "PXl5COkGaO_c"
   },
   "outputs": [],
   "source": []
  },
  {
   "cell_type": "code",
   "execution_count": null,
   "metadata": {
    "id": "W4dQROANaO_d"
   },
   "outputs": [],
   "source": []
  },
  {
   "cell_type": "code",
   "execution_count": null,
   "metadata": {
    "id": "byEJPWceaO_d"
   },
   "outputs": [],
   "source": []
  },
  {
   "cell_type": "code",
   "execution_count": null,
   "metadata": {
    "id": "MWmUmO0caO_d"
   },
   "outputs": [],
   "source": []
  },
  {
   "cell_type": "code",
   "execution_count": null,
   "metadata": {
    "id": "iyB5tZZWaO_d"
   },
   "outputs": [],
   "source": []
  },
  {
   "cell_type": "code",
   "execution_count": null,
   "metadata": {
    "id": "xwLBnomraO_d"
   },
   "outputs": [],
   "source": []
  }
 ],
 "metadata": {
  "_draft": {
   "nbviewer_url": "https://gist.github.com/26417fc5578b54127222ec4db23d362f"
  },
  "colab": {
   "provenance": []
  },
  "gist": {
   "data": {
    "description": "Pandas_Data Processing.ipynb",
    "public": true
   },
   "id": "26417fc5578b54127222ec4db23d362f"
  },
  "kernelspec": {
   "display_name": "Python 3 (ipykernel)",
   "language": "python",
   "name": "python3"
  },
  "language_info": {
   "codemirror_mode": {
    "name": "ipython",
    "version": 3
   },
   "file_extension": ".py",
   "mimetype": "text/x-python",
   "name": "python",
   "nbconvert_exporter": "python",
   "pygments_lexer": "ipython3",
   "version": "3.10.9"
  }
 },
 "nbformat": 4,
 "nbformat_minor": 1
}
